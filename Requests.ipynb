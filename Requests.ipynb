{
  "nbformat": 4,
  "nbformat_minor": 0,
  "metadata": {
    "colab": {
      "provenance": [],
      "include_colab_link": true
    },
    "kernelspec": {
      "name": "python3",
      "display_name": "Python 3"
    }
  },
  "cells": [
    {
      "cell_type": "markdown",
      "metadata": {
        "id": "view-in-github",
        "colab_type": "text"
      },
      "source": [
        "<a href=\"https://colab.research.google.com/github/cmerino15/WebParsers/blob/main/Requests.ipynb\" target=\"_parent\"><img src=\"https://colab.research.google.com/assets/colab-badge.svg\" alt=\"Open In Colab\"/></a>"
      ]
    },
    {
      "cell_type": "markdown",
      "metadata": {
        "id": "J9FEM2KjDt0V"
      },
      "source": [
        "\n",
        "## following [requests documentation](https://requests.readthedocs.io/en/master/)"
      ]
    },
    {
      "cell_type": "code",
      "metadata": {
        "id": "37vGVZxADrQ5"
      },
      "source": [
        "import requests"
      ],
      "execution_count": 1,
      "outputs": []
    },
    {
      "cell_type": "code",
      "metadata": {
        "id": "DOh5pXVQRTgO"
      },
      "source": [
        "r = requests.get('http://www.chicagoreader.com')"
      ],
      "execution_count": 2,
      "outputs": []
    },
    {
      "cell_type": "code",
      "metadata": {
        "colab": {
          "base_uri": "https://localhost:8080/"
        },
        "id": "LhiI7CUKgLFl",
        "outputId": "526be5f5-9e5e-4f4f-ee27-93305c5b3289"
      },
      "source": [
        "r.headers"
      ],
      "execution_count": 3,
      "outputs": [
        {
          "output_type": "execute_result",
          "data": {
            "text/plain": [
              "{'Server': 'nginx', 'Date': 'Sat, 18 Feb 2023 21:52:51 GMT', 'Content-Type': 'text/html; charset=utf-8', 'Transfer-Encoding': 'chunked', 'Connection': 'keep-alive', 'Strict-Transport-Security': 'max-age=31536000', 'Vary': 'Accept-Encoding, Cookie', 'Last-Modified': 'Sat, 18 Feb 2023 21:48:10 GMT', 'Cache-Control': 'max-age=19, must-revalidate', 'X-nananana': 'Batcache-Hit', 'Host-Header': 'Newspack', 'Link': '<https://chicagoreader.com/wp-json/>; rel=\"https://api.w.org/\", <https://chicagoreader.com/wp-json/wp/v2/pages/10959295>; rel=\"alternate\"; type=\"application/json\", <https://chicagoreader.com/>; rel=shortlink', 'Server-Timing': 'amp_sanitizer;dur=\"139.0\",amp_style_sanitizer;dur=\"60.3\",amp_tag_and_attribute_sanitizer;dur=\"61.0\",amp_optimizer;dur=\"23.5\"', 'Content-Encoding': 'gzip', 'X-ac': '3.bur _atomic_bur EXPIRED'}"
            ]
          },
          "metadata": {},
          "execution_count": 3
        }
      ]
    },
    {
      "cell_type": "code",
      "metadata": {
        "colab": {
          "base_uri": "https://localhost:8080/",
          "height": 35
        },
        "id": "ty8e-mUmRcLS",
        "outputId": "0dfadf8d-0596-447d-f0fd-96eb4fb0a9f3"
      },
      "source": [
        "r.headers['content-type']"
      ],
      "execution_count": 4,
      "outputs": [
        {
          "output_type": "execute_result",
          "data": {
            "text/plain": [
              "'text/html; charset=utf-8'"
            ],
            "application/vnd.google.colaboratory.intrinsic+json": {
              "type": "string"
            }
          },
          "metadata": {},
          "execution_count": 4
        }
      ]
    },
    {
      "cell_type": "code",
      "metadata": {
        "id": "dUKzw5trSIop",
        "colab": {
          "base_uri": "https://localhost:8080/",
          "height": 35
        },
        "outputId": "52382fda-2505-49c7-ddb2-c94d26ff530a"
      },
      "source": [
        "r.encoding"
      ],
      "execution_count": 5,
      "outputs": [
        {
          "output_type": "execute_result",
          "data": {
            "text/plain": [
              "'utf-8'"
            ],
            "application/vnd.google.colaboratory.intrinsic+json": {
              "type": "string"
            }
          },
          "metadata": {},
          "execution_count": 5
        }
      ]
    },
    {
      "cell_type": "code",
      "metadata": {
        "id": "8vaxlaNRSOWh"
      },
      "source": [
        "r.text"
      ],
      "execution_count": null,
      "outputs": []
    },
    {
      "cell_type": "code",
      "metadata": {
        "id": "i_M0IbQETMHi"
      },
      "source": [
        "# r.json() doesn't work since content type is not json\n",
        "r.json"
      ],
      "execution_count": null,
      "outputs": []
    },
    {
      "cell_type": "code",
      "metadata": {
        "id": "asMhAJdvTPTU"
      },
      "source": [
        "r = requests.get('https://api.github.com/events')"
      ],
      "execution_count": 8,
      "outputs": []
    },
    {
      "cell_type": "code",
      "metadata": {
        "id": "QKNVblnOUQpy",
        "colab": {
          "base_uri": "https://localhost:8080/"
        },
        "outputId": "02314062-a804-44ae-d5b7-5977d24f5633"
      },
      "source": [
        "r.headers"
      ],
      "execution_count": null,
      "outputs": [
        {
          "output_type": "execute_result",
          "data": {
            "text/plain": [
              "{'Server': 'GitHub.com', 'Date': 'Tue, 27 Dec 2022 20:14:07 GMT', 'Content-Type': 'application/json; charset=utf-8', 'Cache-Control': 'public, max-age=60, s-maxage=60', 'Vary': 'Accept, Accept-Encoding, Accept, X-Requested-With', 'ETag': 'W/\"b487baa263d5c792ef0872f3231b2f59af93414893813ef4c51949b583c45d62\"', 'Last-Modified': 'Tue, 27 Dec 2022 20:09:07 GMT', 'X-Poll-Interval': '60', 'X-GitHub-Media-Type': 'github.v3; format=json', 'Link': '<https://api.github.com/events?page=2>; rel=\"next\", <https://api.github.com/events?page=10>; rel=\"last\"', 'x-github-api-version-selected': '2022-11-28', 'Access-Control-Expose-Headers': 'ETag, Link, Location, Retry-After, X-GitHub-OTP, X-RateLimit-Limit, X-RateLimit-Remaining, X-RateLimit-Used, X-RateLimit-Resource, X-RateLimit-Reset, X-OAuth-Scopes, X-Accepted-OAuth-Scopes, X-Poll-Interval, X-GitHub-Media-Type, X-GitHub-SSO, X-GitHub-Request-Id, Deprecation, Sunset', 'Access-Control-Allow-Origin': '*', 'Strict-Transport-Security': 'max-age=31536000; includeSubdomains; preload', 'X-Frame-Options': 'deny', 'X-Content-Type-Options': 'nosniff', 'X-XSS-Protection': '0', 'Referrer-Policy': 'origin-when-cross-origin, strict-origin-when-cross-origin', 'Content-Security-Policy': \"default-src 'none'\", 'Content-Encoding': 'gzip', 'X-RateLimit-Limit': '60', 'X-RateLimit-Remaining': '58', 'X-RateLimit-Reset': '1672175167', 'X-RateLimit-Resource': 'core', 'X-RateLimit-Used': '2', 'Accept-Ranges': 'bytes', 'Transfer-Encoding': 'chunked', 'X-GitHub-Request-Id': '9116:0414:BB6D4CC:18186579:63AB520F'}"
            ]
          },
          "metadata": {},
          "execution_count": 31
        }
      ]
    },
    {
      "cell_type": "code",
      "metadata": {
        "id": "iVq_R58bTySD",
        "colab": {
          "base_uri": "https://localhost:8080/",
          "height": 35
        },
        "outputId": "904fe027-cf33-4067-da89-66c801cfb4fd"
      },
      "source": [
        "r.headers['server']"
      ],
      "execution_count": null,
      "outputs": [
        {
          "output_type": "execute_result",
          "data": {
            "text/plain": [
              "'GitHub.com'"
            ],
            "application/vnd.google.colaboratory.intrinsic+json": {
              "type": "string"
            }
          },
          "metadata": {},
          "execution_count": 32
        }
      ]
    },
    {
      "cell_type": "code",
      "metadata": {
        "id": "leTeHRxoUZXH",
        "colab": {
          "base_uri": "https://localhost:8080/",
          "height": 35
        },
        "outputId": "707f7b96-9082-4443-9c55-0882903b7b56"
      },
      "source": [
        "r.headers['content-type']"
      ],
      "execution_count": null,
      "outputs": [
        {
          "output_type": "execute_result",
          "data": {
            "text/plain": [
              "'application/json; charset=utf-8'"
            ],
            "application/vnd.google.colaboratory.intrinsic+json": {
              "type": "string"
            }
          },
          "metadata": {},
          "execution_count": 33
        }
      ]
    },
    {
      "cell_type": "code",
      "metadata": {
        "id": "Tzce6d9YT0YE"
      },
      "source": [
        "rp = requests.post('https://httpbin.org/post')"
      ],
      "execution_count": null,
      "outputs": []
    },
    {
      "cell_type": "code",
      "metadata": {
        "colab": {
          "base_uri": "https://localhost:8080/"
        },
        "id": "_S0uX8WEXybq",
        "outputId": "b3bfe26d-3c51-40f1-f2bd-c50528037223"
      },
      "source": [
        "# rp.headers shows content type is json\n",
        "rp.json()"
      ],
      "execution_count": null,
      "outputs": [
        {
          "output_type": "execute_result",
          "data": {
            "text/plain": [
              "{'args': {},\n",
              " 'data': '',\n",
              " 'files': {},\n",
              " 'form': {},\n",
              " 'headers': {'Accept': '*/*',\n",
              "  'Accept-Encoding': 'gzip, deflate',\n",
              "  'Content-Length': '0',\n",
              "  'Host': 'httpbin.org',\n",
              "  'User-Agent': 'python-requests/2.23.0',\n",
              "  'X-Amzn-Trace-Id': 'Root=1-63ab5237-22a7cb5c72bf63f33f6e80e8'},\n",
              " 'json': None,\n",
              " 'origin': '35.202.16.243',\n",
              " 'url': 'https://httpbin.org/post'}"
            ]
          },
          "metadata": {},
          "execution_count": 35
        }
      ]
    },
    {
      "cell_type": "code",
      "metadata": {
        "id": "xPMPFmj3YwNa"
      },
      "source": [
        "rp = requests.post('https://httpbin.org/post', data={'key':'value'})"
      ],
      "execution_count": null,
      "outputs": []
    },
    {
      "cell_type": "code",
      "metadata": {
        "colab": {
          "base_uri": "https://localhost:8080/"
        },
        "id": "BiQNWNVPZrNo",
        "outputId": "17244a31-ee8f-4fd2-b590-eadcebeb6ad7"
      },
      "source": [
        "print(rp.json())"
      ],
      "execution_count": null,
      "outputs": [
        {
          "output_type": "stream",
          "name": "stdout",
          "text": [
            "{'args': {}, 'data': '', 'files': {}, 'form': {'key': 'value'}, 'headers': {'Accept': '*/*', 'Accept-Encoding': 'gzip, deflate', 'Content-Length': '9', 'Content-Type': 'application/x-www-form-urlencoded', 'Host': 'httpbin.org', 'User-Agent': 'python-requests/2.23.0', 'X-Amzn-Trace-Id': 'Root=1-63ab5241-47aaeb8b4fa7aa43397b43ed'}, 'json': None, 'origin': '35.202.16.243', 'url': 'https://httpbin.org/post'}\n"
          ]
        }
      ]
    },
    {
      "cell_type": "code",
      "metadata": {
        "id": "LZSSETpPaLo6"
      },
      "source": [],
      "execution_count": null,
      "outputs": []
    }
  ]
}