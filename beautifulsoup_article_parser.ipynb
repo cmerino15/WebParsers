{
  "nbformat": 4,
  "nbformat_minor": 0,
  "metadata": {
    "colab": {
      "provenance": [],
      "include_colab_link": true
    },
    "kernelspec": {
      "name": "python3",
      "display_name": "Python 3"
    }
  },
  "cells": [
    {
      "cell_type": "markdown",
      "metadata": {
        "id": "view-in-github",
        "colab_type": "text"
      },
      "source": [
        "<a href=\"https://colab.research.google.com/github/cmerino15/WebParsers/blob/main/beautifulsoup_article_parser.ipynb\" target=\"_parent\"><img src=\"https://colab.research.google.com/assets/colab-badge.svg\" alt=\"Open In Colab\"/></a>"
      ]
    },
    {
      "cell_type": "markdown",
      "metadata": {
        "id": "qn71mrQfDeQ1"
      },
      "source": [
        "# A simple pythone program that parses the chicagoreader site for some of the main articles"
      ]
    },
    {
      "cell_type": "code",
      "metadata": {
        "id": "F1BILbuWDYDB"
      },
      "source": [
        "from bs4 import BeautifulSoup\n",
        "import urllib.request\n",
        "from urllib.parse import *"
      ],
      "execution_count": 1,
      "outputs": []
    },
    {
      "cell_type": "markdown",
      "source": [
        "The rest of the program works with chicagoreader.com but it can be modified to work with other sites with a little analysis. Note the cells where I refer to the website html"
      ],
      "metadata": {
        "id": "qpyWHSbpyg7L"
      }
    },
    {
      "cell_type": "code",
      "metadata": {
        "colab": {
          "base_uri": "https://localhost:8080/"
        },
        "id": "FGNtskcMhIZW",
        "outputId": "57156c43-80b1-4791-d49f-e2e84d9d83a1"
      },
      "source": [
        "webpage = input(\"enter a site without 'http://': \") # try www.chicagoreader.com for the rest of the script to work\n",
        "url = 'http://'+webpage\n",
        "print(urlparse(url), '\\n')"
      ],
      "execution_count": 2,
      "outputs": [
        {
          "output_type": "stream",
          "name": "stdout",
          "text": [
            "enter a site without 'http://': www.chicagoreader.com\n",
            "ParseResult(scheme='http', netloc='www.chicagoreader.com', path='', params='', query='', fragment='') \n",
            "\n"
          ]
        }
      ]
    },
    {
      "cell_type": "code",
      "metadata": {
        "id": "ZVmoeXYmFNlv"
      },
      "source": [
        "html = urllib.request.urlopen(url).read()"
      ],
      "execution_count": 3,
      "outputs": []
    },
    {
      "cell_type": "code",
      "metadata": {
        "id": "7765HRdBFZuS"
      },
      "source": [
        "soup = BeautifulSoup(html, 'lxml') "
      ],
      "execution_count": 4,
      "outputs": []
    },
    {
      "cell_type": "code",
      "metadata": {
        "id": "9gDOqnx4vrel"
      },
      "source": [
        "print(soup) # html "
      ],
      "execution_count": null,
      "outputs": []
    },
    {
      "cell_type": "code",
      "metadata": {
        "id": "GUieAJEwyhje"
      },
      "source": [
        "print(soup.prettify()) #  better but we can improve, let's find the body"
      ],
      "execution_count": null,
      "outputs": []
    },
    {
      "cell_type": "code",
      "metadata": {
        "id": "SkS-4nvpFfEC",
        "colab": {
          "base_uri": "https://localhost:8080/"
        },
        "outputId": "0e04e9d4-482c-4940-fb86-933ee1139e10"
      },
      "source": [
        "list = soup.find(\"body\")\n",
        "print(type(list)) # notice what the type is ...so we can prettify list"
      ],
      "execution_count": 7,
      "outputs": [
        {
          "output_type": "stream",
          "name": "stdout",
          "text": [
            "<class 'bs4.element.Tag'>\n"
          ]
        }
      ]
    },
    {
      "cell_type": "code",
      "metadata": {
        "id": "FZVueydNL6sX"
      },
      "source": [
        "print(list.prettify()) # we have a body ...inspecting site shows articles on home page have <div class=\"headlines\" tags..."
      ],
      "execution_count": null,
      "outputs": []
    },
    {
      "cell_type": "code",
      "source": [],
      "metadata": {
        "id": "t6Rqj9YV9KEA"
      },
      "execution_count": 8,
      "outputs": []
    },
    {
      "cell_type": "code",
      "metadata": {
        "id": "nWs4-Q0-Mw6F"
      },
      "source": [
        "h3_list = soup.find_all('h3', attrs={'class':'entry-title'}) "
      ],
      "execution_count": 9,
      "outputs": []
    },
    {
      "cell_type": "code",
      "metadata": {
        "id": "ya3sIMfQNamq",
        "colab": {
          "base_uri": "https://localhost:8080/"
        },
        "outputId": "9d4166c7-67cb-4216-ac46-520e8a9aedbc"
      },
      "source": [
        "print(h3_list)\n",
        "print(len(h3_list))\n",
        "print(h3_list[0]) #remember that this is not a typical list...hence why i'll convert to a list of dictionaries next...array of dictionaries..."
      ],
      "execution_count": 10,
      "outputs": [
        {
          "output_type": "stream",
          "name": "stdout",
          "text": [
            "[<h3 class=\"entry-title\"><a href=\"https://chicagoreader.com/chicago-police-district-councils/\" rel=\"bookmark\">2023 Chicago Police District Councils Voter Guide</a></h3>, <h3 class=\"entry-title\"><a href=\"https://chicagoreader.com/columns-opinion/on-politics/the-vallas-surge/\" rel=\"bookmark\">The Vallas surge</a></h3>, <h3 class=\"entry-title\"><a href=\"https://chicagoreader.com/music/smooth-chicago-bluesman-jimmy-burns-celebrates-80-years/\" rel=\"bookmark\">Smooth Chicago bluesman Jimmy Burns celebrates 80 years</a></h3>, <h3 class=\"entry-title\"><a href=\"https://chicagoreader.com/film/review-pacifiction/\" rel=\"bookmark\">Review: Pacifiction</a></h3>, <h3 class=\"entry-title\"><a href=\"https://chicagoreader.com/film/review-sharper/\" rel=\"bookmark\">Review: Sharper</a></h3>, <h3 class=\"entry-title\"><a href=\"https://chicagoreader.com/film/review-knock-at-the-cabin/\" rel=\"bookmark\">Review: Knock at the Cabin</a></h3>, <h3 class=\"entry-title\"><a href=\"https://chicagoreader.com/arts-culture/ghost-light/chicago-theatre-week-kicks-off/\" rel=\"bookmark\">Chicago Theatre Week kicks off</a></h3>, <h3 class=\"entry-title\"><a href=\"https://chicagoreader.com/news-politics/all-love-and-no-hate-for-tyre-nichols/\" rel=\"bookmark\">“All Love and No Hate” for Tyre Nichols</a></h3>, <h3 class=\"entry-title\"><a href=\"https://chicagoreader.com/news-politics/politics/billy-the-kid-3/\" rel=\"bookmark\">Billy the Kid</a></h3>, <h3 class=\"entry-title\"><a href=\"https://chicagoreader.com/news-politics/feature-news-politics/the-gage-park-latinx-council/\" rel=\"bookmark\">The Gage Park Latinx Council nurtures community and identity </a></h3>, <h3 class=\"entry-title\"><a href=\"https://chicagoreader.com/columns-opinion/staff-notes/ch-ch-ch-ch-changes/\" rel=\"bookmark\">Ch-ch-ch-ch-changes</a></h3>, <h3 class=\"entry-title\"><a href=\"https://chicagoreader.com/columns-opinion/staff-notes/publishers-note/\" rel=\"bookmark\">Publisher’s note</a></h3>, <h3 class=\"entry-title\"><a href=\"https://chicagoreader.com/columns-opinion/on-prisons/mayoral-debate-was-a-poor-night-for-chicago/\" rel=\"bookmark\">Mayoral debate was a poor night for Chicago</a></h3>, <h3 class=\"entry-title\"><a href=\"https://chicagoreader.com/film/review-full-time/\" rel=\"bookmark\">Review: Full Time</a></h3>, <h3 class=\"entry-title\"><a href=\"https://chicagoreader.com/film/review-ant-man-and-the-wasp-quantumania/\" rel=\"bookmark\">Review: Ant-Man and the Wasp: Quantumania</a></h3>, <h3 class=\"entry-title\"><a href=\"https://chicagoreader.com/film/review-all-that-breathes/\" rel=\"bookmark\">Review: All That Breathes</a></h3>, <h3 class=\"entry-title\"><a href=\"https://chicagoreader.com/arts-culture/roasted-with-love/\" rel=\"bookmark\">Roasted, with love</a></h3>, <h3 class=\"entry-title\"><a href=\"https://chicagoreader.com/arts-culture/theater-review/trial-in-the-delta-revisits-the-murder-of-emmett-till/\" rel=\"bookmark\"><i>Trial in the Delta</i> revisits the murder of Emmett Till</a></h3>, <h3 class=\"entry-title\"><a href=\"https://chicagoreader.com/arts-culture/theater-review/ezekiels-wheel-is-an-absorbing-fable/\" rel=\"bookmark\"><i>Ezekiel’s Wheel</i> is an absorbing fable</a></h3>, <h3 class=\"entry-title\"><a href=\"https://chicagoreader.com/music/the-secret-history-of-chicago-music/linsey-alexander-started-a-second-career-in-the-blues-at-58/\" rel=\"bookmark\">Linsey Alexander started a second career in the blues at 58</a></h3>, <h3 class=\"entry-title\"><a href=\"https://chicagoreader.com/music/the-frequency-festival-tunes-into-music-that-grows-between-methods-and-genres/\" rel=\"bookmark\">The Frequency Festival tunes into music that grows between methods and genres</a></h3>, <h3 class=\"entry-title\"><a href=\"https://chicagoreader.com/music/joanna-mattrey-steven-long/\" rel=\"bookmark\"><strong>New York duo Joanna Mattrey &amp; Steven Long find beauty in small changes</strong></a></h3>, <h3 class=\"entry-title\"><a href=\"https://chicagoreader.com/city-life/calling-all-rat-lovers/\" rel=\"bookmark\">Calling all rat lovers</a></h3>, <h3 class=\"entry-title\"><a href=\"https://chicagoreader.com/city-life/feature-city-life/getting-sober-and-drawing-rabbits/\" rel=\"bookmark\">Getting sober and drawing rabbits</a></h3>, <h3 class=\"entry-title\"><a href=\"https://chicagoreader.com/film/chicago-gets-its-first-alamo-drafthouse/\" rel=\"bookmark\">Chicago gets its first Alamo Drafthouse</a></h3>, <h3 class=\"entry-title\"><a href=\"https://chicagoreader.com/food-drink/monday-night-foodball/taco-sublimes-vampiros-will-drain-your-hunger-at-the-next-monday-night-foodball/\" rel=\"bookmark\">Taco Sublime’s vampiros will drain your hunger at the next Monday Night Foodball</a></h3>, <h3 class=\"entry-title\"><a href=\"https://chicagoreader.com/reader-partners/best-dating-sites-for-real-relationships/\" rel=\"bookmark\">Best Dating Sites for Real Relationships in 2023</a></h3>, <h3 class=\"entry-title\"><a href=\"https://chicagoreader.com/city-life/the-ywca-and-chicago-rape-crisis-hotline-support-chicagolands-sexual-assault-survivors/\" rel=\"bookmark\">The YWCA and Chicago Rape Crisis Hotline support Chicagoland’s sexual assault survivors</a></h3>, <h3 class=\"entry-title\"><a href=\"https://chicagoreader.com/city-life/elevated-chicago-catalyzes-equitable-development-around-the-citys-transit-stations/\" rel=\"bookmark\">Elevated Chicago catalyzes equitable development around the city’s transit stations</a></h3>, <h3 class=\"entry-title\"><a href=\"https://chicagoreader.com/reader-partners/natures-grace-and-wellness/spark-the-conversation/do-the-winter-blues-get-you-down/\" rel=\"bookmark\">Do the winter blues get you down?</a></h3>, <h3 class=\"entry-title\"><a href=\"https://chicagoreader.com/city-life/chicago-family-biking-makes-biking-fun-and-safer-for-all-ages/\" rel=\"bookmark\">Chicago Family Biking makes biking fun and safer for all ages</a></h3>, <h3 class=\"entry-title\"><a href=\"https://chicagoreader.com/city-life/jane-addams-resource-corporation-offers-free-training-and-job-placement/\" rel=\"bookmark\">Jane Addams Resource Corporation offers free training and job placement</a></h3>]\n",
            "32\n",
            "<h3 class=\"entry-title\"><a href=\"https://chicagoreader.com/chicago-police-district-councils/\" rel=\"bookmark\">2023 Chicago Police District Councils Voter Guide</a></h3>\n"
          ]
        }
      ]
    },
    {
      "cell_type": "code",
      "metadata": {
        "id": "I_TQ_wqA1T2C"
      },
      "source": [
        "article_list = []\n",
        "for item in h3_list:\n",
        "  article_info = {}\n",
        "  article_info['title'] = item.a.text\n",
        "  article_info['link'] = item.a['href']\n",
        "  article_list.append(article_info)"
      ],
      "execution_count": 11,
      "outputs": []
    },
    {
      "cell_type": "code",
      "metadata": {
        "colab": {
          "base_uri": "https://localhost:8080/"
        },
        "id": "SgRtpMX83XQz",
        "outputId": "bd94dd15-5d31-49d6-c6d3-73bb34cb2e9f"
      },
      "source": [
        "print(article_list)"
      ],
      "execution_count": 12,
      "outputs": [
        {
          "output_type": "stream",
          "name": "stdout",
          "text": [
            "[{'title': '2023 Chicago Police District Councils Voter Guide', 'link': 'https://chicagoreader.com/chicago-police-district-councils/'}, {'title': 'The Vallas surge', 'link': 'https://chicagoreader.com/columns-opinion/on-politics/the-vallas-surge/'}, {'title': 'Smooth Chicago bluesman Jimmy Burns celebrates 80 years', 'link': 'https://chicagoreader.com/music/smooth-chicago-bluesman-jimmy-burns-celebrates-80-years/'}, {'title': 'Review: Pacifiction', 'link': 'https://chicagoreader.com/film/review-pacifiction/'}, {'title': 'Review: Sharper', 'link': 'https://chicagoreader.com/film/review-sharper/'}, {'title': 'Review: Knock at the Cabin', 'link': 'https://chicagoreader.com/film/review-knock-at-the-cabin/'}, {'title': 'Chicago Theatre Week kicks off', 'link': 'https://chicagoreader.com/arts-culture/ghost-light/chicago-theatre-week-kicks-off/'}, {'title': '“All Love and No Hate” for Tyre Nichols', 'link': 'https://chicagoreader.com/news-politics/all-love-and-no-hate-for-tyre-nichols/'}, {'title': 'Billy the Kid', 'link': 'https://chicagoreader.com/news-politics/politics/billy-the-kid-3/'}, {'title': 'The Gage Park Latinx Council nurtures community and identity\\xa0', 'link': 'https://chicagoreader.com/news-politics/feature-news-politics/the-gage-park-latinx-council/'}, {'title': 'Ch-ch-ch-ch-changes', 'link': 'https://chicagoreader.com/columns-opinion/staff-notes/ch-ch-ch-ch-changes/'}, {'title': 'Publisher’s note', 'link': 'https://chicagoreader.com/columns-opinion/staff-notes/publishers-note/'}, {'title': 'Mayoral debate was a poor night for Chicago', 'link': 'https://chicagoreader.com/columns-opinion/on-prisons/mayoral-debate-was-a-poor-night-for-chicago/'}, {'title': 'Review: Full Time', 'link': 'https://chicagoreader.com/film/review-full-time/'}, {'title': 'Review: Ant-Man and the Wasp: Quantumania', 'link': 'https://chicagoreader.com/film/review-ant-man-and-the-wasp-quantumania/'}, {'title': 'Review: All That Breathes', 'link': 'https://chicagoreader.com/film/review-all-that-breathes/'}, {'title': 'Roasted, with love', 'link': 'https://chicagoreader.com/arts-culture/roasted-with-love/'}, {'title': 'Trial in the Delta revisits the murder of Emmett Till', 'link': 'https://chicagoreader.com/arts-culture/theater-review/trial-in-the-delta-revisits-the-murder-of-emmett-till/'}, {'title': 'Ezekiel’s Wheel is an absorbing fable', 'link': 'https://chicagoreader.com/arts-culture/theater-review/ezekiels-wheel-is-an-absorbing-fable/'}, {'title': 'Linsey Alexander started a second career in the blues at 58', 'link': 'https://chicagoreader.com/music/the-secret-history-of-chicago-music/linsey-alexander-started-a-second-career-in-the-blues-at-58/'}, {'title': 'The Frequency Festival tunes into music that grows between methods and genres', 'link': 'https://chicagoreader.com/music/the-frequency-festival-tunes-into-music-that-grows-between-methods-and-genres/'}, {'title': 'New York duo Joanna Mattrey & Steven Long find beauty in small changes', 'link': 'https://chicagoreader.com/music/joanna-mattrey-steven-long/'}, {'title': 'Calling all rat lovers', 'link': 'https://chicagoreader.com/city-life/calling-all-rat-lovers/'}, {'title': 'Getting sober and drawing rabbits', 'link': 'https://chicagoreader.com/city-life/feature-city-life/getting-sober-and-drawing-rabbits/'}, {'title': 'Chicago gets its first Alamo Drafthouse', 'link': 'https://chicagoreader.com/film/chicago-gets-its-first-alamo-drafthouse/'}, {'title': 'Taco Sublime’s vampiros will drain your hunger at the next Monday Night Foodball', 'link': 'https://chicagoreader.com/food-drink/monday-night-foodball/taco-sublimes-vampiros-will-drain-your-hunger-at-the-next-monday-night-foodball/'}, {'title': 'Best Dating Sites for Real Relationships in 2023', 'link': 'https://chicagoreader.com/reader-partners/best-dating-sites-for-real-relationships/'}, {'title': 'The YWCA and Chicago Rape Crisis Hotline support Chicagoland’s sexual assault survivors', 'link': 'https://chicagoreader.com/city-life/the-ywca-and-chicago-rape-crisis-hotline-support-chicagolands-sexual-assault-survivors/'}, {'title': 'Elevated Chicago catalyzes equitable development around the city’s transit stations', 'link': 'https://chicagoreader.com/city-life/elevated-chicago-catalyzes-equitable-development-around-the-citys-transit-stations/'}, {'title': 'Do the winter blues get you down?', 'link': 'https://chicagoreader.com/reader-partners/natures-grace-and-wellness/spark-the-conversation/do-the-winter-blues-get-you-down/'}, {'title': 'Chicago Family Biking makes biking fun and safer for all ages', 'link': 'https://chicagoreader.com/city-life/chicago-family-biking-makes-biking-fun-and-safer-for-all-ages/'}, {'title': 'Jane Addams Resource Corporation offers free training and job placement', 'link': 'https://chicagoreader.com/city-life/jane-addams-resource-corporation-offers-free-training-and-job-placement/'}]\n"
          ]
        }
      ]
    },
    {
      "cell_type": "code",
      "metadata": {
        "colab": {
          "base_uri": "https://localhost:8080/"
        },
        "id": "7lqXX8q_5XYx",
        "outputId": "f792d3c2-91e2-4801-8757-08ebbf9c74d6"
      },
      "source": [
        "for i in range(0,len(h3_list)):\n",
        "  print(\"article \", i, \": \", article_list[i]['title'], article_list[i]['link'])"
      ],
      "execution_count": 13,
      "outputs": [
        {
          "output_type": "stream",
          "name": "stdout",
          "text": [
            "article  0 :  2023 Chicago Police District Councils Voter Guide https://chicagoreader.com/chicago-police-district-councils/\n",
            "article  1 :  The Vallas surge https://chicagoreader.com/columns-opinion/on-politics/the-vallas-surge/\n",
            "article  2 :  Smooth Chicago bluesman Jimmy Burns celebrates 80 years https://chicagoreader.com/music/smooth-chicago-bluesman-jimmy-burns-celebrates-80-years/\n",
            "article  3 :  Review: Pacifiction https://chicagoreader.com/film/review-pacifiction/\n",
            "article  4 :  Review: Sharper https://chicagoreader.com/film/review-sharper/\n",
            "article  5 :  Review: Knock at the Cabin https://chicagoreader.com/film/review-knock-at-the-cabin/\n",
            "article  6 :  Chicago Theatre Week kicks off https://chicagoreader.com/arts-culture/ghost-light/chicago-theatre-week-kicks-off/\n",
            "article  7 :  “All Love and No Hate” for Tyre Nichols https://chicagoreader.com/news-politics/all-love-and-no-hate-for-tyre-nichols/\n",
            "article  8 :  Billy the Kid https://chicagoreader.com/news-politics/politics/billy-the-kid-3/\n",
            "article  9 :  The Gage Park Latinx Council nurtures community and identity  https://chicagoreader.com/news-politics/feature-news-politics/the-gage-park-latinx-council/\n",
            "article  10 :  Ch-ch-ch-ch-changes https://chicagoreader.com/columns-opinion/staff-notes/ch-ch-ch-ch-changes/\n",
            "article  11 :  Publisher’s note https://chicagoreader.com/columns-opinion/staff-notes/publishers-note/\n",
            "article  12 :  Mayoral debate was a poor night for Chicago https://chicagoreader.com/columns-opinion/on-prisons/mayoral-debate-was-a-poor-night-for-chicago/\n",
            "article  13 :  Review: Full Time https://chicagoreader.com/film/review-full-time/\n",
            "article  14 :  Review: Ant-Man and the Wasp: Quantumania https://chicagoreader.com/film/review-ant-man-and-the-wasp-quantumania/\n",
            "article  15 :  Review: All That Breathes https://chicagoreader.com/film/review-all-that-breathes/\n",
            "article  16 :  Roasted, with love https://chicagoreader.com/arts-culture/roasted-with-love/\n",
            "article  17 :  Trial in the Delta revisits the murder of Emmett Till https://chicagoreader.com/arts-culture/theater-review/trial-in-the-delta-revisits-the-murder-of-emmett-till/\n",
            "article  18 :  Ezekiel’s Wheel is an absorbing fable https://chicagoreader.com/arts-culture/theater-review/ezekiels-wheel-is-an-absorbing-fable/\n",
            "article  19 :  Linsey Alexander started a second career in the blues at 58 https://chicagoreader.com/music/the-secret-history-of-chicago-music/linsey-alexander-started-a-second-career-in-the-blues-at-58/\n",
            "article  20 :  The Frequency Festival tunes into music that grows between methods and genres https://chicagoreader.com/music/the-frequency-festival-tunes-into-music-that-grows-between-methods-and-genres/\n",
            "article  21 :  New York duo Joanna Mattrey & Steven Long find beauty in small changes https://chicagoreader.com/music/joanna-mattrey-steven-long/\n",
            "article  22 :  Calling all rat lovers https://chicagoreader.com/city-life/calling-all-rat-lovers/\n",
            "article  23 :  Getting sober and drawing rabbits https://chicagoreader.com/city-life/feature-city-life/getting-sober-and-drawing-rabbits/\n",
            "article  24 :  Chicago gets its first Alamo Drafthouse https://chicagoreader.com/film/chicago-gets-its-first-alamo-drafthouse/\n",
            "article  25 :  Taco Sublime’s vampiros will drain your hunger at the next Monday Night Foodball https://chicagoreader.com/food-drink/monday-night-foodball/taco-sublimes-vampiros-will-drain-your-hunger-at-the-next-monday-night-foodball/\n",
            "article  26 :  Best Dating Sites for Real Relationships in 2023 https://chicagoreader.com/reader-partners/best-dating-sites-for-real-relationships/\n",
            "article  27 :  The YWCA and Chicago Rape Crisis Hotline support Chicagoland’s sexual assault survivors https://chicagoreader.com/city-life/the-ywca-and-chicago-rape-crisis-hotline-support-chicagolands-sexual-assault-survivors/\n",
            "article  28 :  Elevated Chicago catalyzes equitable development around the city’s transit stations https://chicagoreader.com/city-life/elevated-chicago-catalyzes-equitable-development-around-the-citys-transit-stations/\n",
            "article  29 :  Do the winter blues get you down? https://chicagoreader.com/reader-partners/natures-grace-and-wellness/spark-the-conversation/do-the-winter-blues-get-you-down/\n",
            "article  30 :  Chicago Family Biking makes biking fun and safer for all ages https://chicagoreader.com/city-life/chicago-family-biking-makes-biking-fun-and-safer-for-all-ages/\n",
            "article  31 :  Jane Addams Resource Corporation offers free training and job placement https://chicagoreader.com/city-life/jane-addams-resource-corporation-offers-free-training-and-job-placement/\n"
          ]
        }
      ]
    }
  ]
}